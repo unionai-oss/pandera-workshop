{
 "cells": [
  {
   "cell_type": "markdown",
   "metadata": {},
   "source": [
    "# Intro to Data Validation with Pandera\n",
    "\n",
    "In this workshop, we'll learn how to ensure the integrity and reliability of\n",
    "your data with Pandera.\n",
    "\n",
    "We'll cover:\n",
    "- 🤔 Why Data Quality Matters: Understand common data quality challenges and their impact on data-driven applications.\n",
    "- ✅ Introduction to Pandera: Explore the core concepts of Pandera, including schema definitions, checks, and validation strategies.\n",
    "- ⭐️ Hands-on Demo: Build real-world data validation pipelines to catch errors early and improve the reliability of your datasets.\n",
    "- 🔀 Integrating with Workflows: See how Pandera fits into machine learning pipelines, data engineering workflows, and MLOps environments."
   ]
  },
  {
   "cell_type": "code",
   "execution_count": 45,
   "metadata": {},
   "outputs": [
    {
     "name": "stdout",
     "output_type": "stream",
     "text": [
      "Requirement already satisfied: matplotlib in /Users/nielsbantilan/miniforge3/envs/pandera-workshop/lib/python3.11/site-packages (3.10.0)\n",
      "Requirement already satisfied: numpy in /Users/nielsbantilan/miniforge3/envs/pandera-workshop/lib/python3.11/site-packages (2.2.3)\n",
      "Requirement already satisfied: pandera in /Users/nielsbantilan/miniforge3/envs/pandera-workshop/lib/python3.11/site-packages (0.22.1)\n",
      "Requirement already satisfied: pandas in /Users/nielsbantilan/miniforge3/envs/pandera-workshop/lib/python3.11/site-packages (2.2.3)\n",
      "Requirement already satisfied: scikit-learn in /Users/nielsbantilan/miniforge3/envs/pandera-workshop/lib/python3.11/site-packages (1.6.1)\n",
      "Requirement already satisfied: scipy in /Users/nielsbantilan/miniforge3/envs/pandera-workshop/lib/python3.11/site-packages (1.15.2)\n",
      "Collecting seaborn\n",
      "  Using cached seaborn-0.13.2-py3-none-any.whl.metadata (5.4 kB)\n",
      "Requirement already satisfied: union in /Users/nielsbantilan/miniforge3/envs/pandera-workshop/lib/python3.11/site-packages (0.1.146)\n",
      "Requirement already satisfied: contourpy>=1.0.1 in /Users/nielsbantilan/miniforge3/envs/pandera-workshop/lib/python3.11/site-packages (from matplotlib) (1.3.1)\n",
      "Requirement already satisfied: cycler>=0.10 in /Users/nielsbantilan/miniforge3/envs/pandera-workshop/lib/python3.11/site-packages (from matplotlib) (0.12.1)\n",
      "Requirement already satisfied: fonttools>=4.22.0 in /Users/nielsbantilan/miniforge3/envs/pandera-workshop/lib/python3.11/site-packages (from matplotlib) (4.56.0)\n",
      "Requirement already satisfied: kiwisolver>=1.3.1 in /Users/nielsbantilan/miniforge3/envs/pandera-workshop/lib/python3.11/site-packages (from matplotlib) (1.4.8)\n",
      "Requirement already satisfied: packaging>=20.0 in /Users/nielsbantilan/miniforge3/envs/pandera-workshop/lib/python3.11/site-packages (from matplotlib) (24.2)\n",
      "Requirement already satisfied: pillow>=8 in /Users/nielsbantilan/miniforge3/envs/pandera-workshop/lib/python3.11/site-packages (from matplotlib) (11.1.0)\n",
      "Requirement already satisfied: pyparsing>=2.3.1 in /Users/nielsbantilan/miniforge3/envs/pandera-workshop/lib/python3.11/site-packages (from matplotlib) (3.2.1)\n",
      "Requirement already satisfied: python-dateutil>=2.7 in /Users/nielsbantilan/miniforge3/envs/pandera-workshop/lib/python3.11/site-packages (from matplotlib) (2.9.0.post0)\n",
      "Requirement already satisfied: pydantic in /Users/nielsbantilan/miniforge3/envs/pandera-workshop/lib/python3.11/site-packages (from pandera) (2.10.6)\n",
      "Requirement already satisfied: typeguard in /Users/nielsbantilan/miniforge3/envs/pandera-workshop/lib/python3.11/site-packages (from pandera) (4.4.2)\n",
      "Requirement already satisfied: typing_inspect>=0.6.0 in /Users/nielsbantilan/miniforge3/envs/pandera-workshop/lib/python3.11/site-packages (from pandera) (0.9.0)\n",
      "Requirement already satisfied: pytz>=2020.1 in /Users/nielsbantilan/miniforge3/envs/pandera-workshop/lib/python3.11/site-packages (from pandas) (2025.1)\n",
      "Requirement already satisfied: tzdata>=2022.7 in /Users/nielsbantilan/miniforge3/envs/pandera-workshop/lib/python3.11/site-packages (from pandas) (2025.1)\n",
      "Requirement already satisfied: joblib>=1.2.0 in /Users/nielsbantilan/miniforge3/envs/pandera-workshop/lib/python3.11/site-packages (from scikit-learn) (1.4.2)\n",
      "Requirement already satisfied: threadpoolctl>=3.1.0 in /Users/nielsbantilan/miniforge3/envs/pandera-workshop/lib/python3.11/site-packages (from scikit-learn) (3.5.0)\n",
      "Requirement already satisfied: googleapis-common-protos>=1.57 in /Users/nielsbantilan/miniforge3/envs/pandera-workshop/lib/python3.11/site-packages (from union) (1.68.0)\n",
      "Requirement already satisfied: grpcio!=1.68.0,!=1.68.1 in /Users/nielsbantilan/miniforge3/envs/pandera-workshop/lib/python3.11/site-packages (from union) (1.67.1)\n",
      "Requirement already satisfied: grpcio-status!=1.68.0,!=1.68.1 in /Users/nielsbantilan/miniforge3/envs/pandera-workshop/lib/python3.11/site-packages (from union) (1.67.1)\n",
      "Requirement already satisfied: keyring in /Users/nielsbantilan/miniforge3/envs/pandera-workshop/lib/python3.11/site-packages (from union) (25.6.0)\n",
      "Requirement already satisfied: importlib-metadata in /Users/nielsbantilan/miniforge3/envs/pandera-workshop/lib/python3.11/site-packages (from union) (8.6.1)\n",
      "Requirement already satisfied: fsspec>=2023.3.0 in /Users/nielsbantilan/miniforge3/envs/pandera-workshop/lib/python3.11/site-packages (from union) (2025.2.0)\n",
      "Requirement already satisfied: aiofiles>=23.2.1 in /Users/nielsbantilan/miniforge3/envs/pandera-workshop/lib/python3.11/site-packages (from union) (24.1.0)\n",
      "Requirement already satisfied: click in /Users/nielsbantilan/miniforge3/envs/pandera-workshop/lib/python3.11/site-packages (from union) (8.1.8)\n",
      "Requirement already satisfied: rich in /Users/nielsbantilan/miniforge3/envs/pandera-workshop/lib/python3.11/site-packages (from union) (13.9.4)\n",
      "Requirement already satisfied: rich_click in /Users/nielsbantilan/miniforge3/envs/pandera-workshop/lib/python3.11/site-packages (from union) (1.8.6)\n",
      "Requirement already satisfied: flytekit>=v1.15.0 in /Users/nielsbantilan/miniforge3/envs/pandera-workshop/lib/python3.11/site-packages (from union) (1.15.0)\n",
      "Requirement already satisfied: flyteidl>=v1.14.0 in /Users/nielsbantilan/miniforge3/envs/pandera-workshop/lib/python3.11/site-packages (from union) (1.15.0)\n",
      "Requirement already satisfied: sentry-sdk>=2.0.0 in /Users/nielsbantilan/miniforge3/envs/pandera-workshop/lib/python3.11/site-packages (from union) (2.22.0)\n",
      "Requirement already satisfied: mashumaro in /Users/nielsbantilan/miniforge3/envs/pandera-workshop/lib/python3.11/site-packages (from union) (3.15)\n",
      "Requirement already satisfied: pyyaml in /Users/nielsbantilan/miniforge3/envs/pandera-workshop/lib/python3.11/site-packages (from union) (6.0.2)\n",
      "Requirement already satisfied: typing_extensions in /Users/nielsbantilan/miniforge3/envs/pandera-workshop/lib/python3.11/site-packages (from union) (4.12.2)\n",
      "Requirement already satisfied: protoc-gen-openapiv2 in /Users/nielsbantilan/miniforge3/envs/pandera-workshop/lib/python3.11/site-packages (from flyteidl>=v1.14.0->union) (0.0.1)\n",
      "Requirement already satisfied: protobuf>=4.21.1 in /Users/nielsbantilan/miniforge3/envs/pandera-workshop/lib/python3.11/site-packages (from flyteidl>=v1.14.0->union) (5.29.3)\n",
      "Requirement already satisfied: adlfs>=2023.3.0 in /Users/nielsbantilan/miniforge3/envs/pandera-workshop/lib/python3.11/site-packages (from flytekit>=v1.15.0->union) (2024.12.0)\n",
      "Requirement already satisfied: cloudpickle>=2.0.0 in /Users/nielsbantilan/miniforge3/envs/pandera-workshop/lib/python3.11/site-packages (from flytekit>=v1.15.0->union) (3.1.1)\n",
      "Requirement already satisfied: croniter>=0.3.20 in /Users/nielsbantilan/miniforge3/envs/pandera-workshop/lib/python3.11/site-packages (from flytekit>=v1.15.0->union) (6.0.0)\n",
      "Requirement already satisfied: dataclasses-json<0.5.12,>=0.5.2 in /Users/nielsbantilan/miniforge3/envs/pandera-workshop/lib/python3.11/site-packages (from flytekit>=v1.15.0->union) (0.5.9)\n",
      "Requirement already satisfied: diskcache>=5.2.1 in /Users/nielsbantilan/miniforge3/envs/pandera-workshop/lib/python3.11/site-packages (from flytekit>=v1.15.0->union) (5.6.3)\n",
      "Requirement already satisfied: docker>=4.0.0 in /Users/nielsbantilan/miniforge3/envs/pandera-workshop/lib/python3.11/site-packages (from flytekit>=v1.15.0->union) (7.1.0)\n",
      "Requirement already satisfied: docstring-parser>=0.9.0 in /Users/nielsbantilan/miniforge3/envs/pandera-workshop/lib/python3.11/site-packages (from flytekit>=v1.15.0->union) (0.16)\n",
      "Requirement already satisfied: gcsfs>=2023.3.0 in /Users/nielsbantilan/miniforge3/envs/pandera-workshop/lib/python3.11/site-packages (from flytekit>=v1.15.0->union) (2025.2.0)\n",
      "Requirement already satisfied: jsonlines in /Users/nielsbantilan/miniforge3/envs/pandera-workshop/lib/python3.11/site-packages (from flytekit>=v1.15.0->union) (4.0.0)\n",
      "Requirement already satisfied: jsonpickle in /Users/nielsbantilan/miniforge3/envs/pandera-workshop/lib/python3.11/site-packages (from flytekit>=v1.15.0->union) (4.0.2)\n",
      "Requirement already satisfied: markdown-it-py in /Users/nielsbantilan/miniforge3/envs/pandera-workshop/lib/python3.11/site-packages (from flytekit>=v1.15.0->union) (3.0.0)\n",
      "Requirement already satisfied: marshmallow-enum in /Users/nielsbantilan/miniforge3/envs/pandera-workshop/lib/python3.11/site-packages (from flytekit>=v1.15.0->union) (1.5.1)\n",
      "Requirement already satisfied: marshmallow-jsonschema>=0.12.0 in /Users/nielsbantilan/miniforge3/envs/pandera-workshop/lib/python3.11/site-packages (from flytekit>=v1.15.0->union) (0.13.0)\n",
      "Requirement already satisfied: msgpack>=1.1.0 in /Users/nielsbantilan/miniforge3/envs/pandera-workshop/lib/python3.11/site-packages (from flytekit>=v1.15.0->union) (1.1.0)\n",
      "Requirement already satisfied: pygments in /Users/nielsbantilan/miniforge3/envs/pandera-workshop/lib/python3.11/site-packages (from flytekit>=v1.15.0->union) (2.19.1)\n",
      "Requirement already satisfied: python-json-logger>=2.0.0 in /Users/nielsbantilan/miniforge3/envs/pandera-workshop/lib/python3.11/site-packages (from flytekit>=v1.15.0->union) (3.2.1)\n",
      "Requirement already satisfied: pytimeparse>=1.1.8 in /Users/nielsbantilan/miniforge3/envs/pandera-workshop/lib/python3.11/site-packages (from flytekit>=v1.15.0->union) (1.1.8)\n",
      "Requirement already satisfied: requests>=2.18.4 in /Users/nielsbantilan/miniforge3/envs/pandera-workshop/lib/python3.11/site-packages (from flytekit>=v1.15.0->union) (2.32.3)\n",
      "Requirement already satisfied: s3fs!=2024.3.1,>=2023.3.0 in /Users/nielsbantilan/miniforge3/envs/pandera-workshop/lib/python3.11/site-packages (from flytekit>=v1.15.0->union) (2025.2.0)\n",
      "Requirement already satisfied: statsd>=3.0.0 in /Users/nielsbantilan/miniforge3/envs/pandera-workshop/lib/python3.11/site-packages (from flytekit>=v1.15.0->union) (4.0.1)\n",
      "Requirement already satisfied: urllib3>=1.22 in /Users/nielsbantilan/miniforge3/envs/pandera-workshop/lib/python3.11/site-packages (from flytekit>=v1.15.0->union) (2.3.0)\n",
      "Requirement already satisfied: jaraco.classes in /Users/nielsbantilan/miniforge3/envs/pandera-workshop/lib/python3.11/site-packages (from keyring->union) (3.4.0)\n",
      "Requirement already satisfied: jaraco.functools in /Users/nielsbantilan/miniforge3/envs/pandera-workshop/lib/python3.11/site-packages (from keyring->union) (4.1.0)\n",
      "Requirement already satisfied: jaraco.context in /Users/nielsbantilan/miniforge3/envs/pandera-workshop/lib/python3.11/site-packages (from keyring->union) (6.0.1)\n",
      "Requirement already satisfied: zipp>=3.20 in /Users/nielsbantilan/miniforge3/envs/pandera-workshop/lib/python3.11/site-packages (from importlib-metadata->union) (3.21.0)\n",
      "Requirement already satisfied: six>=1.5 in /Users/nielsbantilan/miniforge3/envs/pandera-workshop/lib/python3.11/site-packages (from python-dateutil>=2.7->matplotlib) (1.17.0)\n",
      "Requirement already satisfied: certifi in /Users/nielsbantilan/miniforge3/envs/pandera-workshop/lib/python3.11/site-packages (from sentry-sdk>=2.0.0->union) (2025.1.31)\n",
      "Requirement already satisfied: mypy-extensions>=0.3.0 in /Users/nielsbantilan/miniforge3/envs/pandera-workshop/lib/python3.11/site-packages (from typing_inspect>=0.6.0->pandera) (1.0.0)\n",
      "Requirement already satisfied: annotated-types>=0.6.0 in /Users/nielsbantilan/miniforge3/envs/pandera-workshop/lib/python3.11/site-packages (from pydantic->pandera) (0.7.0)\n",
      "Requirement already satisfied: pydantic-core==2.27.2 in /Users/nielsbantilan/miniforge3/envs/pandera-workshop/lib/python3.11/site-packages (from pydantic->pandera) (2.27.2)\n",
      "Requirement already satisfied: azure-core<2.0.0,>=1.28.0 in /Users/nielsbantilan/miniforge3/envs/pandera-workshop/lib/python3.11/site-packages (from adlfs>=2023.3.0->flytekit>=v1.15.0->union) (1.32.0)\n",
      "Requirement already satisfied: azure-datalake-store<0.1,>=0.0.53 in /Users/nielsbantilan/miniforge3/envs/pandera-workshop/lib/python3.11/site-packages (from adlfs>=2023.3.0->flytekit>=v1.15.0->union) (0.0.53)\n",
      "Requirement already satisfied: azure-identity in /Users/nielsbantilan/miniforge3/envs/pandera-workshop/lib/python3.11/site-packages (from adlfs>=2023.3.0->flytekit>=v1.15.0->union) (1.20.0)\n",
      "Requirement already satisfied: azure-storage-blob>=12.17.0 in /Users/nielsbantilan/miniforge3/envs/pandera-workshop/lib/python3.11/site-packages (from adlfs>=2023.3.0->flytekit>=v1.15.0->union) (12.24.1)\n",
      "Requirement already satisfied: aiohttp>=3.7.0 in /Users/nielsbantilan/miniforge3/envs/pandera-workshop/lib/python3.11/site-packages (from adlfs>=2023.3.0->flytekit>=v1.15.0->union) (3.11.13)\n",
      "Requirement already satisfied: marshmallow<4.0.0,>=3.3.0 in /Users/nielsbantilan/miniforge3/envs/pandera-workshop/lib/python3.11/site-packages (from dataclasses-json<0.5.12,>=0.5.2->flytekit>=v1.15.0->union) (3.26.1)\n",
      "Requirement already satisfied: decorator>4.1.2 in /Users/nielsbantilan/miniforge3/envs/pandera-workshop/lib/python3.11/site-packages (from gcsfs>=2023.3.0->flytekit>=v1.15.0->union) (5.2.1)\n",
      "Requirement already satisfied: google-auth>=1.2 in /Users/nielsbantilan/miniforge3/envs/pandera-workshop/lib/python3.11/site-packages (from gcsfs>=2023.3.0->flytekit>=v1.15.0->union) (2.38.0)\n",
      "Requirement already satisfied: google-auth-oauthlib in /Users/nielsbantilan/miniforge3/envs/pandera-workshop/lib/python3.11/site-packages (from gcsfs>=2023.3.0->flytekit>=v1.15.0->union) (1.2.1)\n",
      "Requirement already satisfied: google-cloud-storage in /Users/nielsbantilan/miniforge3/envs/pandera-workshop/lib/python3.11/site-packages (from gcsfs>=2023.3.0->flytekit>=v1.15.0->union) (3.0.0)\n",
      "Requirement already satisfied: mdurl~=0.1 in /Users/nielsbantilan/miniforge3/envs/pandera-workshop/lib/python3.11/site-packages (from markdown-it-py->flytekit>=v1.15.0->union) (0.1.2)\n",
      "Requirement already satisfied: charset-normalizer<4,>=2 in /Users/nielsbantilan/miniforge3/envs/pandera-workshop/lib/python3.11/site-packages (from requests>=2.18.4->flytekit>=v1.15.0->union) (3.4.1)\n",
      "Requirement already satisfied: idna<4,>=2.5 in /Users/nielsbantilan/miniforge3/envs/pandera-workshop/lib/python3.11/site-packages (from requests>=2.18.4->flytekit>=v1.15.0->union) (3.10)\n",
      "Requirement already satisfied: aiobotocore<3.0.0,>=2.5.4 in /Users/nielsbantilan/miniforge3/envs/pandera-workshop/lib/python3.11/site-packages (from s3fs!=2024.3.1,>=2023.3.0->flytekit>=v1.15.0->union) (2.20.0)\n",
      "Requirement already satisfied: more-itertools in /Users/nielsbantilan/miniforge3/envs/pandera-workshop/lib/python3.11/site-packages (from jaraco.classes->keyring->union) (10.6.0)\n",
      "Requirement already satisfied: backports.tarfile in /Users/nielsbantilan/miniforge3/envs/pandera-workshop/lib/python3.11/site-packages (from jaraco.context->keyring->union) (1.2.0)\n",
      "Requirement already satisfied: attrs>=19.2.0 in /Users/nielsbantilan/miniforge3/envs/pandera-workshop/lib/python3.11/site-packages (from jsonlines->flytekit>=v1.15.0->union) (25.1.0)\n",
      "Requirement already satisfied: aioitertools<1.0.0,>=0.5.1 in /Users/nielsbantilan/miniforge3/envs/pandera-workshop/lib/python3.11/site-packages (from aiobotocore<3.0.0,>=2.5.4->s3fs!=2024.3.1,>=2023.3.0->flytekit>=v1.15.0->union) (0.12.0)\n",
      "Requirement already satisfied: botocore<1.36.24,>=1.36.20 in /Users/nielsbantilan/miniforge3/envs/pandera-workshop/lib/python3.11/site-packages (from aiobotocore<3.0.0,>=2.5.4->s3fs!=2024.3.1,>=2023.3.0->flytekit>=v1.15.0->union) (1.36.23)\n",
      "Requirement already satisfied: jmespath<2.0.0,>=0.7.1 in /Users/nielsbantilan/miniforge3/envs/pandera-workshop/lib/python3.11/site-packages (from aiobotocore<3.0.0,>=2.5.4->s3fs!=2024.3.1,>=2023.3.0->flytekit>=v1.15.0->union) (1.0.1)\n",
      "Requirement already satisfied: multidict<7.0.0,>=6.0.0 in /Users/nielsbantilan/miniforge3/envs/pandera-workshop/lib/python3.11/site-packages (from aiobotocore<3.0.0,>=2.5.4->s3fs!=2024.3.1,>=2023.3.0->flytekit>=v1.15.0->union) (6.1.0)\n",
      "Requirement already satisfied: wrapt<2.0.0,>=1.10.10 in /Users/nielsbantilan/miniforge3/envs/pandera-workshop/lib/python3.11/site-packages (from aiobotocore<3.0.0,>=2.5.4->s3fs!=2024.3.1,>=2023.3.0->flytekit>=v1.15.0->union) (1.17.2)\n",
      "Requirement already satisfied: aiohappyeyeballs>=2.3.0 in /Users/nielsbantilan/miniforge3/envs/pandera-workshop/lib/python3.11/site-packages (from aiohttp>=3.7.0->adlfs>=2023.3.0->flytekit>=v1.15.0->union) (2.4.6)\n",
      "Requirement already satisfied: aiosignal>=1.1.2 in /Users/nielsbantilan/miniforge3/envs/pandera-workshop/lib/python3.11/site-packages (from aiohttp>=3.7.0->adlfs>=2023.3.0->flytekit>=v1.15.0->union) (1.3.2)\n",
      "Requirement already satisfied: frozenlist>=1.1.1 in /Users/nielsbantilan/miniforge3/envs/pandera-workshop/lib/python3.11/site-packages (from aiohttp>=3.7.0->adlfs>=2023.3.0->flytekit>=v1.15.0->union) (1.5.0)\n",
      "Requirement already satisfied: propcache>=0.2.0 in /Users/nielsbantilan/miniforge3/envs/pandera-workshop/lib/python3.11/site-packages (from aiohttp>=3.7.0->adlfs>=2023.3.0->flytekit>=v1.15.0->union) (0.3.0)\n",
      "Requirement already satisfied: yarl<2.0,>=1.17.0 in /Users/nielsbantilan/miniforge3/envs/pandera-workshop/lib/python3.11/site-packages (from aiohttp>=3.7.0->adlfs>=2023.3.0->flytekit>=v1.15.0->union) (1.18.3)\n",
      "Requirement already satisfied: cffi in /Users/nielsbantilan/miniforge3/envs/pandera-workshop/lib/python3.11/site-packages (from azure-datalake-store<0.1,>=0.0.53->adlfs>=2023.3.0->flytekit>=v1.15.0->union) (1.17.1)\n",
      "Requirement already satisfied: msal<2,>=1.16.0 in /Users/nielsbantilan/miniforge3/envs/pandera-workshop/lib/python3.11/site-packages (from azure-datalake-store<0.1,>=0.0.53->adlfs>=2023.3.0->flytekit>=v1.15.0->union) (1.31.1)\n",
      "Requirement already satisfied: cryptography>=2.1.4 in /Users/nielsbantilan/miniforge3/envs/pandera-workshop/lib/python3.11/site-packages (from azure-storage-blob>=12.17.0->adlfs>=2023.3.0->flytekit>=v1.15.0->union) (44.0.1)\n",
      "Requirement already satisfied: isodate>=0.6.1 in /Users/nielsbantilan/miniforge3/envs/pandera-workshop/lib/python3.11/site-packages (from azure-storage-blob>=12.17.0->adlfs>=2023.3.0->flytekit>=v1.15.0->union) (0.7.2)\n",
      "Requirement already satisfied: cachetools<6.0,>=2.0.0 in /Users/nielsbantilan/miniforge3/envs/pandera-workshop/lib/python3.11/site-packages (from google-auth>=1.2->gcsfs>=2023.3.0->flytekit>=v1.15.0->union) (5.5.2)\n",
      "Requirement already satisfied: pyasn1-modules>=0.2.1 in /Users/nielsbantilan/miniforge3/envs/pandera-workshop/lib/python3.11/site-packages (from google-auth>=1.2->gcsfs>=2023.3.0->flytekit>=v1.15.0->union) (0.4.1)\n",
      "Requirement already satisfied: rsa<5,>=3.1.4 in /Users/nielsbantilan/miniforge3/envs/pandera-workshop/lib/python3.11/site-packages (from google-auth>=1.2->gcsfs>=2023.3.0->flytekit>=v1.15.0->union) (4.9)\n",
      "Requirement already satisfied: msal-extensions>=1.2.0 in /Users/nielsbantilan/miniforge3/envs/pandera-workshop/lib/python3.11/site-packages (from azure-identity->adlfs>=2023.3.0->flytekit>=v1.15.0->union) (1.2.0)\n",
      "Requirement already satisfied: requests-oauthlib>=0.7.0 in /Users/nielsbantilan/miniforge3/envs/pandera-workshop/lib/python3.11/site-packages (from google-auth-oauthlib->gcsfs>=2023.3.0->flytekit>=v1.15.0->union) (2.0.0)\n",
      "Requirement already satisfied: google-api-core<3.0.0dev,>=2.15.0 in /Users/nielsbantilan/miniforge3/envs/pandera-workshop/lib/python3.11/site-packages (from google-cloud-storage->gcsfs>=2023.3.0->flytekit>=v1.15.0->union) (2.24.1)\n",
      "Requirement already satisfied: google-cloud-core<3.0dev,>=2.3.0 in /Users/nielsbantilan/miniforge3/envs/pandera-workshop/lib/python3.11/site-packages (from google-cloud-storage->gcsfs>=2023.3.0->flytekit>=v1.15.0->union) (2.4.2)\n",
      "Requirement already satisfied: google-resumable-media>=2.7.2 in /Users/nielsbantilan/miniforge3/envs/pandera-workshop/lib/python3.11/site-packages (from google-cloud-storage->gcsfs>=2023.3.0->flytekit>=v1.15.0->union) (2.7.2)\n",
      "Requirement already satisfied: google-crc32c<2.0dev,>=1.0 in /Users/nielsbantilan/miniforge3/envs/pandera-workshop/lib/python3.11/site-packages (from google-cloud-storage->gcsfs>=2023.3.0->flytekit>=v1.15.0->union) (1.6.0)\n",
      "Requirement already satisfied: pycparser in /Users/nielsbantilan/miniforge3/envs/pandera-workshop/lib/python3.11/site-packages (from cffi->azure-datalake-store<0.1,>=0.0.53->adlfs>=2023.3.0->flytekit>=v1.15.0->union) (2.22)\n",
      "Requirement already satisfied: proto-plus<2.0.0dev,>=1.22.3 in /Users/nielsbantilan/miniforge3/envs/pandera-workshop/lib/python3.11/site-packages (from google-api-core<3.0.0dev,>=2.15.0->google-cloud-storage->gcsfs>=2023.3.0->flytekit>=v1.15.0->union) (1.26.0)\n",
      "Requirement already satisfied: PyJWT<3,>=1.0.0 in /Users/nielsbantilan/miniforge3/envs/pandera-workshop/lib/python3.11/site-packages (from PyJWT[crypto]<3,>=1.0.0->msal<2,>=1.16.0->azure-datalake-store<0.1,>=0.0.53->adlfs>=2023.3.0->flytekit>=v1.15.0->union) (2.10.1)\n",
      "Requirement already satisfied: portalocker<3,>=1.4 in /Users/nielsbantilan/miniforge3/envs/pandera-workshop/lib/python3.11/site-packages (from msal-extensions>=1.2.0->azure-identity->adlfs>=2023.3.0->flytekit>=v1.15.0->union) (2.10.1)\n",
      "Requirement already satisfied: pyasn1<0.7.0,>=0.4.6 in /Users/nielsbantilan/miniforge3/envs/pandera-workshop/lib/python3.11/site-packages (from pyasn1-modules>=0.2.1->google-auth>=1.2->gcsfs>=2023.3.0->flytekit>=v1.15.0->union) (0.6.1)\n",
      "Requirement already satisfied: oauthlib>=3.0.0 in /Users/nielsbantilan/miniforge3/envs/pandera-workshop/lib/python3.11/site-packages (from requests-oauthlib>=0.7.0->google-auth-oauthlib->gcsfs>=2023.3.0->flytekit>=v1.15.0->union) (3.2.2)\n",
      "Using cached seaborn-0.13.2-py3-none-any.whl (294 kB)\n",
      "Installing collected packages: seaborn\n",
      "Successfully installed seaborn-0.13.2\n"
     ]
    }
   ],
   "source": [
    "!pip install matplotlib numpy pandera pandas scikit-learn scipy seaborn union"
   ]
  },
  {
   "cell_type": "markdown",
   "metadata": {
    "vscode": {
     "languageId": "plaintext"
    }
   },
   "source": [
    "## 🤔 Why Data Quality Matters\n",
    "\n",
    "Common data quality challenges:\n",
    "\n",
    "- Data type errors\n",
    "- Out-of-range values\n",
    "- Missing values\n",
    "- Data drift\n",
    "\n",
    "Can lead to:\n",
    "- ⏱️ Hours debugging data pipelines\n",
    "- 📉 Poor model performance\n",
    "- ❌ Incorrect reporting and decision-making"
   ]
  },
  {
   "cell_type": "markdown",
   "metadata": {},
   "source": [
    "### Data type errors\n",
    "\n",
    "A common data type error is when the column is not the correct type. For example,\n",
    "we might expect a column to be a datetime, but it's actually a string."
   ]
  },
  {
   "cell_type": "code",
   "execution_count": 13,
   "metadata": {},
   "outputs": [
    {
     "data": {
      "text/html": [
       "<div>\n",
       "<style scoped>\n",
       "    .dataframe tbody tr th:only-of-type {\n",
       "        vertical-align: middle;\n",
       "    }\n",
       "\n",
       "    .dataframe tbody tr th {\n",
       "        vertical-align: top;\n",
       "    }\n",
       "\n",
       "    .dataframe thead th {\n",
       "        text-align: right;\n",
       "    }\n",
       "</style>\n",
       "<table border=\"1\" class=\"dataframe\">\n",
       "  <thead>\n",
       "    <tr style=\"text-align: right;\">\n",
       "      <th></th>\n",
       "      <th>dates</th>\n",
       "    </tr>\n",
       "  </thead>\n",
       "  <tbody>\n",
       "    <tr>\n",
       "      <th>0</th>\n",
       "      <td>2025-02-01</td>\n",
       "    </tr>\n",
       "    <tr>\n",
       "      <th>1</th>\n",
       "      <td>2025-02-02</td>\n",
       "    </tr>\n",
       "    <tr>\n",
       "      <th>2</th>\n",
       "      <td>2025-02-03</td>\n",
       "    </tr>\n",
       "  </tbody>\n",
       "</table>\n",
       "</div>"
      ],
      "text/plain": [
       "        dates\n",
       "0  2025-02-01\n",
       "1  2025-02-02\n",
       "2  2025-02-03"
      ]
     },
     "execution_count": 13,
     "metadata": {},
     "output_type": "execute_result"
    }
   ],
   "source": [
    "import pandas as pd\n",
    "\n",
    "dates = [\"2025-02-01\", \"2025-02-02\", \"2025-02-03\"]\n",
    "dates_df = pd.DataFrame({\"dates\": dates})\n",
    "dates_df.head()"
   ]
  },
  {
   "cell_type": "markdown",
   "metadata": {},
   "source": [
    "So certain operations may fail unexpectedly."
   ]
  },
  {
   "cell_type": "code",
   "execution_count": 15,
   "metadata": {},
   "outputs": [
    {
     "name": "stdout",
     "output_type": "stream",
     "text": [
      "unsupported operand type(s) for -: 'numpy.ndarray' and 'Timestamp'\n"
     ]
    }
   ],
   "source": [
    "try:\n",
    "    dates_df - pd.Timestamp(\"2025-01-01\")\n",
    "except Exception as e:\n",
    "    print(e)"
   ]
  },
  {
   "cell_type": "markdown",
   "metadata": {},
   "source": [
    "### Out-of-range values\n",
    "\n",
    "Or columns take on values that are logically impossible, for example, an\n",
    "inventory dataset may contain the price of items, which can't be negative."
   ]
  },
  {
   "cell_type": "code",
   "execution_count": 17,
   "metadata": {},
   "outputs": [
    {
     "data": {
      "text/html": [
       "<div>\n",
       "<style scoped>\n",
       "    .dataframe tbody tr th:only-of-type {\n",
       "        vertical-align: middle;\n",
       "    }\n",
       "\n",
       "    .dataframe tbody tr th {\n",
       "        vertical-align: top;\n",
       "    }\n",
       "\n",
       "    .dataframe thead th {\n",
       "        text-align: right;\n",
       "    }\n",
       "</style>\n",
       "<table border=\"1\" class=\"dataframe\">\n",
       "  <thead>\n",
       "    <tr style=\"text-align: right;\">\n",
       "      <th></th>\n",
       "      <th>prices</th>\n",
       "    </tr>\n",
       "  </thead>\n",
       "  <tbody>\n",
       "    <tr>\n",
       "      <th>0</th>\n",
       "      <td>100</td>\n",
       "    </tr>\n",
       "    <tr>\n",
       "      <th>1</th>\n",
       "      <td>200</td>\n",
       "    </tr>\n",
       "    <tr>\n",
       "      <th>2</th>\n",
       "      <td>300</td>\n",
       "    </tr>\n",
       "    <tr>\n",
       "      <th>3</th>\n",
       "      <td>-99999</td>\n",
       "    </tr>\n",
       "  </tbody>\n",
       "</table>\n",
       "</div>"
      ],
      "text/plain": [
       "   prices\n",
       "0     100\n",
       "1     200\n",
       "2     300\n",
       "3  -99999"
      ]
     },
     "execution_count": 17,
     "metadata": {},
     "output_type": "execute_result"
    }
   ],
   "source": [
    "prices = [100, 200, 300, -99999]\n",
    "prices_df = pd.DataFrame({\"prices\": prices})\n",
    "prices_df"
   ]
  },
  {
   "cell_type": "markdown",
   "metadata": {},
   "source": [
    "Computing the average price of items in the inventory may be confusing or misleading."
   ]
  },
  {
   "cell_type": "code",
   "execution_count": 19,
   "metadata": {},
   "outputs": [
    {
     "data": {
      "text/plain": [
       "np.float64(-24849.75)"
      ]
     },
     "execution_count": 19,
     "metadata": {},
     "output_type": "execute_result"
    }
   ],
   "source": [
    "prices_df[\"prices\"].mean()"
   ]
  },
  {
   "cell_type": "markdown",
   "metadata": {},
   "source": [
    "### Missing values\n",
    "\n",
    "Long and complex data processing pipelines may lead to missing values, maybe\n",
    "from an incorrectly written SQL query or another bug somewhere in the code:"
   ]
  },
  {
   "cell_type": "code",
   "execution_count": 60,
   "metadata": {},
   "outputs": [
    {
     "data": {
      "text/html": [
       "<div>\n",
       "<style scoped>\n",
       "    .dataframe tbody tr th:only-of-type {\n",
       "        vertical-align: middle;\n",
       "    }\n",
       "\n",
       "    .dataframe tbody tr th {\n",
       "        vertical-align: top;\n",
       "    }\n",
       "\n",
       "    .dataframe thead th {\n",
       "        text-align: right;\n",
       "    }\n",
       "</style>\n",
       "<table border=\"1\" class=\"dataframe\">\n",
       "  <thead>\n",
       "    <tr style=\"text-align: right;\">\n",
       "      <th></th>\n",
       "      <th>price</th>\n",
       "      <th>bedrooms</th>\n",
       "      <th>bathrooms</th>\n",
       "      <th>sqft</th>\n",
       "    </tr>\n",
       "  </thead>\n",
       "  <tbody>\n",
       "    <tr>\n",
       "      <th>0</th>\n",
       "      <td>&lt;NA&gt;</td>\n",
       "      <td>&lt;NA&gt;</td>\n",
       "      <td>2</td>\n",
       "      <td>2000</td>\n",
       "    </tr>\n",
       "    <tr>\n",
       "      <th>1</th>\n",
       "      <td>200000</td>\n",
       "      <td>4</td>\n",
       "      <td>3</td>\n",
       "      <td>3000</td>\n",
       "    </tr>\n",
       "    <tr>\n",
       "      <th>2</th>\n",
       "      <td>300000</td>\n",
       "      <td>5</td>\n",
       "      <td>4</td>\n",
       "      <td>4000</td>\n",
       "    </tr>\n",
       "    <tr>\n",
       "      <th>3</th>\n",
       "      <td>400000</td>\n",
       "      <td>6</td>\n",
       "      <td>5</td>\n",
       "      <td>5000</td>\n",
       "    </tr>\n",
       "    <tr>\n",
       "      <th>4</th>\n",
       "      <td>500000</td>\n",
       "      <td>7</td>\n",
       "      <td>6</td>\n",
       "      <td>6000</td>\n",
       "    </tr>\n",
       "  </tbody>\n",
       "</table>\n",
       "</div>"
      ],
      "text/plain": [
       "    price bedrooms  bathrooms  sqft\n",
       "0    <NA>     <NA>          2  2000\n",
       "1  200000        4          3  3000\n",
       "2  300000        5          4  4000\n",
       "3  400000        6          5  5000\n",
       "4  500000        7          6  6000"
      ]
     },
     "execution_count": 60,
     "metadata": {},
     "output_type": "execute_result"
    }
   ],
   "source": [
    "housing_df = pd.DataFrame({\n",
    "    \"price\": [pd.NA, 200000, 300000, 400000, 500000],\n",
    "    \"bedrooms\": [pd.NA, 4, 5, 6, 7],\n",
    "    \"bathrooms\": [2, 3, 4, 5, 6],\n",
    "    \"sqft\": [2000, 3000, 4000, 5000, 6000],\n",
    "})\n",
    "housing_df"
   ]
  },
  {
   "cell_type": "markdown",
   "metadata": {},
   "source": [
    "In some cases this may be expected due to the inherent nature of the data.\n",
    "\n",
    "However, in cases where missing values are not expected and are due to bugs in\n",
    "data processing code, we would want to catch these early before the cause issues\n",
    "during the model training process."
   ]
  },
  {
   "cell_type": "code",
   "execution_count": 61,
   "metadata": {},
   "outputs": [
    {
     "name": "stdout",
     "output_type": "stream",
     "text": [
      "float() argument must be a string or a real number, not 'NAType'\n"
     ]
    }
   ],
   "source": [
    "from sklearn.linear_model import LinearRegression\n",
    "\n",
    "try:\n",
    "    model = LinearRegression()\n",
    "    model.fit(housing_df[[\"bedrooms\", \"bathrooms\", \"sqft\"]], housing_df[\"price\"])\n",
    "    model.predict(housing_df[[\"bedrooms\", \"bathrooms\", \"sqft\"]])\n",
    "except Exception as e:\n",
    "    print(e)\n"
   ]
  },
  {
   "cell_type": "markdown",
   "metadata": {},
   "source": [
    "### Data drift\n",
    "\n",
    "One of the thorniest problems in machine learning is data drift, where the\n",
    "distribution of the data changes over time, which can cause the relationship\n",
    "between features and the target to change. This may lead to model degradation\n",
    "over time."
   ]
  },
  {
   "cell_type": "markdown",
   "metadata": {},
   "source": [
    "Below is an example of two normal distributions of some variable from `t1`\n",
    "drifting to `t2` over time. The `target` is correlated with `data_t1`, but not\n",
    "with `data_t2`."
   ]
  },
  {
   "cell_type": "code",
   "execution_count": 55,
   "metadata": {},
   "outputs": [
    {
     "data": {
      "text/plain": [
       "<Axes: ylabel='Frequency'>"
      ]
     },
     "execution_count": 55,
     "metadata": {},
     "output_type": "execute_result"
    },
    {
     "data": {
      "image/png": "[encoded data removed]",
      "text/plain": [
       "<Figure size 640x480 with 1 Axes>"
      ]
     },
     "metadata": {},
     "output_type": "display_data"
    }
   ],
   "source": [
    "import numpy as np\n",
    "from scipy import stats\n",
    "\n",
    "np.random.seed(42)\n",
    "\n",
    "# Generate two normal distributions with different parameters\n",
    "n_samples = 1000\n",
    "\n",
    "data_t1 = stats.norm.rvs(loc=0, scale=1, size=n_samples)\n",
    "data_t2 = stats.norm.rvs(loc=2, scale=1.5, size=n_samples)\n",
    "\n",
    "# Create target data that's correlated with data_t1 \n",
    "# Using a linear relationship with some noise\n",
    "target = 2 * data_t1 + stats.norm.rvs(loc=0, scale=0.5, size=n_samples)\n",
    "\n",
    "distributions = pd.DataFrame({\n",
    "    \"data_t1\": data_t1,\n",
    "    \"data_t2\": data_t2,\n",
    "    \"target\": target,\n",
    "})\n",
    "\n",
    "distributions[[\"data_t1\", \"data_t2\"]].plot.hist(bins=50, alpha=0.5)"
   ]
  },
  {
   "cell_type": "code",
   "execution_count": 56,
   "metadata": {},
   "outputs": [
    {
     "data": {
      "text/plain": [
       "<Axes: xlabel='data_t2', ylabel='target'>"
      ]
     },
     "execution_count": 56,
     "metadata": {},
     "output_type": "execute_result"
    },
    {
     "data": {
      "image/png": "[encoded data removed]",
      "text/plain": [
       "<Figure size 1000x500 with 2 Axes>"
      ]
     },
     "metadata": {},
     "output_type": "display_data"
    }
   ],
   "source": [
    "import matplotlib.pyplot as plt\n",
    "\n",
    "fig, ax = plt.subplots(1, 2, figsize=(10, 5))\n",
    "distributions[[\"data_t1\", \"target\"]].plot.scatter(x=\"data_t1\", y=\"target\", ax=ax[0])\n",
    "distributions[[\"data_t2\", \"target\"]].plot.scatter(x=\"data_t2\", y=\"target\", ax=ax[1])"
   ]
  },
  {
   "cell_type": "markdown",
   "metadata": {},
   "source": [
    "## ✅ Introduction to Pandera\n",
    "\n",
    "Pandera is a tool for validating data in Python. It provides an easy way to\n",
    "define data validation rules in Python and apply them on data at runtime."
   ]
  },
  {
   "cell_type": "markdown",
   "metadata": {},
   "source": [
    "Let's create a schema for the `housing_df` toy dataset that we created earlier:"
   ]
  },
  {
   "cell_type": "code",
   "execution_count": 57,
   "metadata": {},
   "outputs": [
    {
     "data": {
      "text/html": [
       "<div>\n",
       "<style scoped>\n",
       "    .dataframe tbody tr th:only-of-type {\n",
       "        vertical-align: middle;\n",
       "    }\n",
       "\n",
       "    .dataframe tbody tr th {\n",
       "        vertical-align: top;\n",
       "    }\n",
       "\n",
       "    .dataframe thead th {\n",
       "        text-align: right;\n",
       "    }\n",
       "</style>\n",
       "<table border=\"1\" class=\"dataframe\">\n",
       "  <thead>\n",
       "    <tr style=\"text-align: right;\">\n",
       "      <th></th>\n",
       "      <th>price</th>\n",
       "      <th>bedrooms</th>\n",
       "      <th>bathrooms</th>\n",
       "      <th>sqft</th>\n",
       "      <th>location</th>\n",
       "    </tr>\n",
       "  </thead>\n",
       "  <tbody>\n",
       "    <tr>\n",
       "      <th>0</th>\n",
       "      <td>100000</td>\n",
       "      <td>&lt;NA&gt;</td>\n",
       "      <td>2</td>\n",
       "      <td>2000</td>\n",
       "      <td>&lt;NA&gt;</td>\n",
       "    </tr>\n",
       "    <tr>\n",
       "      <th>1</th>\n",
       "      <td>200000</td>\n",
       "      <td>4</td>\n",
       "      <td>&lt;NA&gt;</td>\n",
       "      <td>&lt;NA&gt;</td>\n",
       "      <td>LA</td>\n",
       "    </tr>\n",
       "    <tr>\n",
       "      <th>2</th>\n",
       "      <td>300000</td>\n",
       "      <td>5</td>\n",
       "      <td>&lt;NA&gt;</td>\n",
       "      <td>4000</td>\n",
       "      <td>NY</td>\n",
       "    </tr>\n",
       "    <tr>\n",
       "      <th>3</th>\n",
       "      <td>400000</td>\n",
       "      <td>6</td>\n",
       "      <td>5</td>\n",
       "      <td>5000</td>\n",
       "      <td>TX</td>\n",
       "    </tr>\n",
       "    <tr>\n",
       "      <th>4</th>\n",
       "      <td>500000</td>\n",
       "      <td>7</td>\n",
       "      <td>6</td>\n",
       "      <td>6000</td>\n",
       "      <td>FL</td>\n",
       "    </tr>\n",
       "  </tbody>\n",
       "</table>\n",
       "</div>"
      ],
      "text/plain": [
       "    price bedrooms bathrooms  sqft location\n",
       "0  100000     <NA>         2  2000     <NA>\n",
       "1  200000        4      <NA>  <NA>       LA\n",
       "2  300000        5      <NA>  4000       NY\n",
       "3  400000        6         5  5000       TX\n",
       "4  500000        7         6  6000       FL"
      ]
     },
     "execution_count": 57,
     "metadata": {},
     "output_type": "execute_result"
    }
   ],
   "source": [
    "housing_df"
   ]
  },
  {
   "cell_type": "markdown",
   "metadata": {},
   "source": [
    "First we create a schema for just the data types of each column:"
   ]
  },
  {
   "cell_type": "code",
   "execution_count": 58,
   "metadata": {},
   "outputs": [],
   "source": [
    "import pandera as pa\n",
    "\n",
    "class HousingSchema(pa.DataFrameModel):\n",
    "    price: float\n",
    "    bedrooms: int\n",
    "    bathrooms: float\n",
    "    sqft: int"
   ]
  },
  {
   "cell_type": "markdown",
   "metadata": {},
   "source": [
    "But that's not all we can do. We can also add value checks to ensure that the\n",
    "values are within a certain range of allowed values."
   ]
  },
  {
   "cell_type": "code",
   "execution_count": 83,
   "metadata": {},
   "outputs": [],
   "source": [
    "class HousingSchema(pa.DataFrameModel):\n",
    "    price: float = pa.Field(ge=50_000)\n",
    "    bedrooms: int = pa.Field(ge=1)\n",
    "    bathrooms: float = pa.Field(ge=1)\n",
    "    sqft: int = pa.Field(ge=100)"
   ]
  },
  {
   "cell_type": "markdown",
   "metadata": {},
   "source": [
    "By default, Pandera assumes that missing values are not allowed."
   ]
  },
  {
   "cell_type": "code",
   "execution_count": 85,
   "metadata": {},
   "outputs": [
    {
     "name": "stdout",
     "output_type": "stream",
     "text": [
      "non-nullable series 'price' contains null values:\n",
      "0    <NA>\n",
      "Name: price, dtype: object\n"
     ]
    }
   ],
   "source": [
    "try:\n",
    "    HousingSchema.validate(housing_df)\n",
    "except pa.errors.SchemaError as err:\n",
    "    print(err)\n"
   ]
  },
  {
   "cell_type": "markdown",
   "metadata": {},
   "source": [
    "We'll have to clean the data to make the validation pass. In this case, let's do\n",
    "the simple thing and remove rows with missing values."
   ]
  },
  {
   "cell_type": "code",
   "execution_count": 86,
   "metadata": {},
   "outputs": [
    {
     "data": {
      "text/html": [
       "<div>\n",
       "<style scoped>\n",
       "    .dataframe tbody tr th:only-of-type {\n",
       "        vertical-align: middle;\n",
       "    }\n",
       "\n",
       "    .dataframe tbody tr th {\n",
       "        vertical-align: top;\n",
       "    }\n",
       "\n",
       "    .dataframe thead th {\n",
       "        text-align: right;\n",
       "    }\n",
       "</style>\n",
       "<table border=\"1\" class=\"dataframe\">\n",
       "  <thead>\n",
       "    <tr style=\"text-align: right;\">\n",
       "      <th></th>\n",
       "      <th>price</th>\n",
       "      <th>bedrooms</th>\n",
       "      <th>bathrooms</th>\n",
       "      <th>sqft</th>\n",
       "    </tr>\n",
       "  </thead>\n",
       "  <tbody>\n",
       "    <tr>\n",
       "      <th>1</th>\n",
       "      <td>200000</td>\n",
       "      <td>4</td>\n",
       "      <td>3</td>\n",
       "      <td>3000</td>\n",
       "    </tr>\n",
       "    <tr>\n",
       "      <th>2</th>\n",
       "      <td>300000</td>\n",
       "      <td>5</td>\n",
       "      <td>4</td>\n",
       "      <td>4000</td>\n",
       "    </tr>\n",
       "    <tr>\n",
       "      <th>3</th>\n",
       "      <td>400000</td>\n",
       "      <td>6</td>\n",
       "      <td>5</td>\n",
       "      <td>5000</td>\n",
       "    </tr>\n",
       "    <tr>\n",
       "      <th>4</th>\n",
       "      <td>500000</td>\n",
       "      <td>7</td>\n",
       "      <td>6</td>\n",
       "      <td>6000</td>\n",
       "    </tr>\n",
       "  </tbody>\n",
       "</table>\n",
       "</div>"
      ],
      "text/plain": [
       "    price bedrooms  bathrooms  sqft\n",
       "1  200000        4          3  3000\n",
       "2  300000        5          4  4000\n",
       "3  400000        6          5  5000\n",
       "4  500000        7          6  6000"
      ]
     },
     "execution_count": 86,
     "metadata": {},
     "output_type": "execute_result"
    }
   ],
   "source": [
    "clean_housing_df = housing_df.dropna()\n",
    "clean_housing_df"
   ]
  },
  {
   "cell_type": "markdown",
   "metadata": {},
   "source": [
    "Finally, we can easily create custom validation checks to check for data drift\n",
    "or other statistical properties."
   ]
  },
  {
   "cell_type": "code",
   "execution_count": 88,
   "metadata": {},
   "outputs": [
    {
     "data": {
      "text/html": [
       "<div>\n",
       "<style scoped>\n",
       "    .dataframe tbody tr th:only-of-type {\n",
       "        vertical-align: middle;\n",
       "    }\n",
       "\n",
       "    .dataframe tbody tr th {\n",
       "        vertical-align: top;\n",
       "    }\n",
       "\n",
       "    .dataframe thead th {\n",
       "        text-align: right;\n",
       "    }\n",
       "</style>\n",
       "<table border=\"1\" class=\"dataframe\">\n",
       "  <thead>\n",
       "    <tr style=\"text-align: right;\">\n",
       "      <th></th>\n",
       "      <th>price</th>\n",
       "      <th>bedrooms</th>\n",
       "      <th>bathrooms</th>\n",
       "      <th>sqft</th>\n",
       "    </tr>\n",
       "  </thead>\n",
       "  <tbody>\n",
       "    <tr>\n",
       "      <th>1</th>\n",
       "      <td>200000.0</td>\n",
       "      <td>4</td>\n",
       "      <td>3.0</td>\n",
       "      <td>3000</td>\n",
       "    </tr>\n",
       "    <tr>\n",
       "      <th>2</th>\n",
       "      <td>300000.0</td>\n",
       "      <td>5</td>\n",
       "      <td>4.0</td>\n",
       "      <td>4000</td>\n",
       "    </tr>\n",
       "    <tr>\n",
       "      <th>3</th>\n",
       "      <td>400000.0</td>\n",
       "      <td>6</td>\n",
       "      <td>5.0</td>\n",
       "      <td>5000</td>\n",
       "    </tr>\n",
       "    <tr>\n",
       "      <th>4</th>\n",
       "      <td>500000.0</td>\n",
       "      <td>7</td>\n",
       "      <td>6.0</td>\n",
       "      <td>6000</td>\n",
       "    </tr>\n",
       "  </tbody>\n",
       "</table>\n",
       "</div>"
      ],
      "text/plain": [
       "      price  bedrooms  bathrooms  sqft\n",
       "1  200000.0         4        3.0  3000\n",
       "2  300000.0         5        4.0  4000\n",
       "3  400000.0         6        5.0  5000\n",
       "4  500000.0         7        6.0  6000"
      ]
     },
     "execution_count": 88,
     "metadata": {},
     "output_type": "execute_result"
    }
   ],
   "source": [
    "class HousingSchemaWithCorrelation(pa.DataFrameModel):\n",
    "    price: float = pa.Field(ge=50_000)\n",
    "    bedrooms: int = pa.Field(ge=1)\n",
    "    bathrooms: float = pa.Field(ge=1)\n",
    "    sqft: int = pa.Field(ge=100)\n",
    "\n",
    "    @pa.dataframe_check(error=\"price and all other features must be positively correlated\")\n",
    "    def check_price_correlation(cls, df: pd.DataFrame) -> bool:\n",
    "        corr_df = df.corr()\n",
    "        correlated = corr_df[\"price\"].loc[[\"bedrooms\", \"bathrooms\", \"sqft\"]] > 0\n",
    "        return correlated.all()\n",
    "    \n",
    "    class Config:\n",
    "        coerce = True\n",
    "    \n",
    "HousingSchemaWithCorrelation.validate(clean_housing_df)"
   ]
  },
  {
   "cell_type": "code",
   "execution_count": 100,
   "metadata": {},
   "outputs": [
    {
     "name": "stdout",
     "output_type": "stream",
     "text": [
      "DataFrameSchema 'HousingSchemaWithCorrelation' failed series or dataframe validator 0: <Check check_price_correlation: price and all other features must be positively correlated>\n"
     ]
    }
   ],
   "source": [
    "corrupted_housing_df = clean_housing_df.copy()\n",
    "corrupted_housing_df[\"bedrooms\"] = corrupted_housing_df[\"bedrooms\"].tolist()[::-1]\n",
    "\n",
    "try:\n",
    "    HousingSchemaWithCorrelation.validate(corrupted_housing_df)\n",
    "except pa.errors.SchemaError as err:\n",
    "    print(err)\n"
   ]
  },
  {
   "cell_type": "markdown",
   "metadata": {},
   "source": [
    "## ⭐️ Hands-on Demo\n",
    "\n",
    "In this demo, we're going to see try to protect against a common machine learning\n",
    "attack: the label-flipping data poisoning attack.\n",
    "\n",
    "In this attack, an adversary wants to degrade the performance of an ML model by\n",
    "flipping the labels in a tabular dataset. If the adversary isn't careful about\n",
    "how they corrupt the data, we can easily catch this kind of attack against a\n",
    "reference dataset."
   ]
  },
  {
   "cell_type": "markdown",
   "metadata": {},
   "source": [
    "## 🔀 Integrating with Workflows\n",
    "\n",
    "In this final section, we'll see how Pandera can be integrated into a machine\n",
    "learning orchestrator.\n",
    "\n",
    "Let's adapt the label-flipping attack demo to a Union workflow, see how\n",
    "we can catch the attack early, and visualize the error report on the Union UI."
   ]
  },
  {
   "cell_type": "markdown",
   "metadata": {},
   "source": [
    "🎉 Congrats! You've learned how to use Pandera to validate data at runtime and\n",
    "and integrate it with a machine learning orchestrator."
   ]
  }
 ],
 "metadata": {
  "kernelspec": {
   "display_name": "pandera-workshop",
   "language": "python",
   "name": "python3"
  },
  "language_info": {
   "codemirror_mode": {
    "name": "ipython",
    "version": 3
   },
   "file_extension": ".py",
   "mimetype": "text/x-python",
   "name": "python",
   "nbconvert_exporter": "python",
   "pygments_lexer": "ipython3",
   "version": "3.11.11"
  }
 },
 "nbformat": 4,
 "nbformat_minor": 2
}
