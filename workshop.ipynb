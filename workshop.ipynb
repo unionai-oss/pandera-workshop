{
 "cells": [
  {
   "cell_type": "markdown",
   "metadata": {},
   "source": [
    "# Intro to Data Validation with Pandera\n",
    "\n",
    "In this workshop, we'll learn how to ensure the integrity and reliability of\n",
    "your data with Pandera.\n",
    "\n",
    "We'll cover:\n",
    "- 🤔 Why Data Quality Matters: Understand common data quality challenges and their impact on data-driven applications.\n",
    "- ✅ Introduction to Pandera: Explore the core concepts of Pandera, including schema definitions, checks, and validation strategies.\n",
    "- ⭐️ Hands-on Demo: Build real-world data validation pipelines to catch errors early and improve the reliability of your datasets.\n",
    "- 🔀 Integrating with Workflows: See how Pandera fits into machine learning pipelines, data engineering workflows, and MLOps environments."
   ]
  },
  {
   "cell_type": "markdown",
   "metadata": {
    "vscode": {
     "languageId": "plaintext"
    }
   },
   "source": [
    "## 🤔 Why Data Quality Matters\n",
    "\n",
    "Common data quality challenges:\n",
    "\n",
    "- Data type errors\n",
    "- Out-of-range values\n",
    "- Missing values\n",
    "- Data drift"
   ]
  },
  {
   "cell_type": "markdown",
   "metadata": {},
   "source": [
    "## ✅ Introduction to Pandera\n",
    "\n",
    "Pandera is a tool for validating data in Python. It provides an easy way to\n",
    "define data validation rules in Python and apply them on data at runtime."
   ]
  },
  {
   "cell_type": "markdown",
   "metadata": {},
   "source": [
    "## ⭐️ Hands-on Demo\n",
    "\n",
    "In this demo, we're going to see try to protect against a common machine learning\n",
    "attack: the label-flipping data poisoning attack.\n",
    "\n",
    "In this attack, an adversary wants to degrade the performance of an ML model by\n",
    "flipping the labels in a tabular dataset. If the adversary isn't careful about\n",
    "how they corrupt the data, we can easily catch this kind of attack against a\n",
    "reference dataset."
   ]
  },
  {
   "cell_type": "markdown",
   "metadata": {},
   "source": [
    "## 🔀 Integrating with Workflows\n",
    "\n",
    "In this final section, we'll see how Pandera can be integrated into a machine\n",
    "learning orchestrator.\n",
    "\n",
    "Let's adapt the label-flipping attack demo to a Union workflow, see how\n",
    "we can catch the attack early, and visualize the error report on the Union UI."
   ]
  },
  {
   "cell_type": "markdown",
   "metadata": {},
   "source": [
    "🎉 Congrats! You've learned how to use Pandera to validate data at runtime and\n",
    "and integrate it with a machine learning orchestrator."
   ]
  }
 ],
 "metadata": {
  "language_info": {
   "name": "python"
  }
 },
 "nbformat": 4,
 "nbformat_minor": 2
}
